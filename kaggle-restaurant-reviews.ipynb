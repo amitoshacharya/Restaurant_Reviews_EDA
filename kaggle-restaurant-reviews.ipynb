{
 "cells": [
  {
   "cell_type": "code",
   "execution_count": 1,
   "id": "629cfb53",
   "metadata": {
    "execution": {
     "iopub.execute_input": "2023-06-15T06:08:54.461388Z",
     "iopub.status.busy": "2023-06-15T06:08:54.461065Z",
     "iopub.status.idle": "2023-06-15T06:08:55.796288Z",
     "shell.execute_reply": "2023-06-15T06:08:55.795326Z"
    },
    "id": "ZWwjqddvUUqH",
    "papermill": {
     "duration": 1.349905,
     "end_time": "2023-06-15T06:08:55.798741",
     "exception": false,
     "start_time": "2023-06-15T06:08:54.448836",
     "status": "completed"
    },
    "tags": []
   },
   "outputs": [],
   "source": [
    "import pandas as pd\n",
    "import numpy as np\n",
    "import matplotlib.pyplot as plt\n",
    "import seaborn as sns\n",
    "import warnings\n",
    "\n",
    "warnings.filterwarnings(\"ignore\")"
   ]
  },
  {
   "cell_type": "markdown",
   "id": "3f80a4a9",
   "metadata": {
    "papermill": {
     "duration": 0.009176,
     "end_time": "2023-06-15T06:08:55.817667",
     "exception": false,
     "start_time": "2023-06-15T06:08:55.808491",
     "status": "completed"
    },
    "tags": []
   },
   "source": [
    "# **Data Collection**"
   ]
  },
  {
   "cell_type": "code",
   "execution_count": 2,
   "id": "c1f09906",
   "metadata": {
    "execution": {
     "iopub.execute_input": "2023-06-15T06:08:55.837557Z",
     "iopub.status.busy": "2023-06-15T06:08:55.837258Z",
     "iopub.status.idle": "2023-06-15T06:08:55.879264Z",
     "shell.execute_reply": "2023-06-15T06:08:55.878530Z"
    },
    "id": "yOPIWyR8cMGr",
    "outputId": "3e8da2b6-4466-4a21-c616-bf7eee28aeb2",
    "papermill": {
     "duration": 0.053984,
     "end_time": "2023-06-15T06:08:55.880878",
     "exception": false,
     "start_time": "2023-06-15T06:08:55.826894",
     "status": "completed"
    },
    "tags": []
   },
   "outputs": [
    {
     "data": {
      "text/html": [
       "<div>\n",
       "<style scoped>\n",
       "    .dataframe tbody tr th:only-of-type {\n",
       "        vertical-align: middle;\n",
       "    }\n",
       "\n",
       "    .dataframe tbody tr th {\n",
       "        vertical-align: top;\n",
       "    }\n",
       "\n",
       "    .dataframe thead th {\n",
       "        text-align: right;\n",
       "    }\n",
       "</style>\n",
       "<table border=\"1\" class=\"dataframe\">\n",
       "  <thead>\n",
       "    <tr style=\"text-align: right;\">\n",
       "      <th></th>\n",
       "      <th>Review</th>\n",
       "      <th>Liked</th>\n",
       "    </tr>\n",
       "  </thead>\n",
       "  <tbody>\n",
       "    <tr>\n",
       "      <th>0</th>\n",
       "      <td>Wow... Loved this place.</td>\n",
       "      <td>1</td>\n",
       "    </tr>\n",
       "    <tr>\n",
       "      <th>1</th>\n",
       "      <td>Crust is not good.</td>\n",
       "      <td>0</td>\n",
       "    </tr>\n",
       "    <tr>\n",
       "      <th>2</th>\n",
       "      <td>Not tasty and the texture was just nasty.</td>\n",
       "      <td>0</td>\n",
       "    </tr>\n",
       "    <tr>\n",
       "      <th>3</th>\n",
       "      <td>Stopped by during the late May bank holiday of...</td>\n",
       "      <td>1</td>\n",
       "    </tr>\n",
       "    <tr>\n",
       "      <th>4</th>\n",
       "      <td>The selection on the menu was great and so wer...</td>\n",
       "      <td>1</td>\n",
       "    </tr>\n",
       "  </tbody>\n",
       "</table>\n",
       "</div>"
      ],
      "text/plain": [
       "                                              Review  Liked\n",
       "0                           Wow... Loved this place.      1\n",
       "1                                 Crust is not good.      0\n",
       "2          Not tasty and the texture was just nasty.      0\n",
       "3  Stopped by during the late May bank holiday of...      1\n",
       "4  The selection on the menu was great and so wer...      1"
      ]
     },
     "execution_count": 2,
     "metadata": {},
     "output_type": "execute_result"
    }
   ],
   "source": [
    "review_data= pd.read_csv(f'/kaggle/input/restaurant-reviews/Restaurant_Reviews.tsv',sep='\\t')\n",
    "review_data.head()"
   ]
  },
  {
   "cell_type": "code",
   "execution_count": 3,
   "id": "9f026416",
   "metadata": {
    "execution": {
     "iopub.execute_input": "2023-06-15T06:08:55.901758Z",
     "iopub.status.busy": "2023-06-15T06:08:55.901437Z",
     "iopub.status.idle": "2023-06-15T06:08:55.926075Z",
     "shell.execute_reply": "2023-06-15T06:08:55.924713Z"
    },
    "id": "fXFNqo2PmJO0",
    "outputId": "8e012fb7-2d8e-4c10-cc0b-a095fb84bade",
    "papermill": {
     "duration": 0.037372,
     "end_time": "2023-06-15T06:08:55.928009",
     "exception": false,
     "start_time": "2023-06-15T06:08:55.890637",
     "status": "completed"
    },
    "tags": []
   },
   "outputs": [
    {
     "name": "stdout",
     "output_type": "stream",
     "text": [
      "<class 'pandas.core.frame.DataFrame'>\n",
      "RangeIndex: 1000 entries, 0 to 999\n",
      "Data columns (total 2 columns):\n",
      " #   Column  Non-Null Count  Dtype \n",
      "---  ------  --------------  ----- \n",
      " 0   Review  1000 non-null   object\n",
      " 1   Liked   1000 non-null   int64 \n",
      "dtypes: int64(1), object(1)\n",
      "memory usage: 15.8+ KB\n"
     ]
    }
   ],
   "source": [
    "review_data.info()"
   ]
  },
  {
   "cell_type": "markdown",
   "id": "97678628",
   "metadata": {
    "papermill": {
     "duration": 0.009635,
     "end_time": "2023-06-15T06:08:55.947444",
     "exception": false,
     "start_time": "2023-06-15T06:08:55.937809",
     "status": "completed"
    },
    "tags": []
   },
   "source": []
  },
  {
   "cell_type": "markdown",
   "id": "76325a3e",
   "metadata": {
    "papermill": {
     "duration": 0.009687,
     "end_time": "2023-06-15T06:08:55.968082",
     "exception": false,
     "start_time": "2023-06-15T06:08:55.958395",
     "status": "completed"
    },
    "tags": []
   },
   "source": [
    "# **Data Preprocessing or Data Cleaning**"
   ]
  },
  {
   "cell_type": "markdown",
   "id": "c9ee8926",
   "metadata": {
    "papermill": {
     "duration": 0.010619,
     "end_time": "2023-06-15T06:08:55.988527",
     "exception": false,
     "start_time": "2023-06-15T06:08:55.977908",
     "status": "completed"
    },
    "tags": []
   },
   "source": [
    "#### ***1. NLP relevant packages loaded***"
   ]
  },
  {
   "cell_type": "code",
   "execution_count": 4,
   "id": "003e56da",
   "metadata": {
    "execution": {
     "iopub.execute_input": "2023-06-15T06:08:56.009877Z",
     "iopub.status.busy": "2023-06-15T06:08:56.009298Z",
     "iopub.status.idle": "2023-06-15T06:09:30.701787Z",
     "shell.execute_reply": "2023-06-15T06:09:30.700931Z"
    },
    "id": "nS8Q15_lmeX-",
    "outputId": "56426425-a0c4-49b3-e251-bdece0908969",
    "papermill": {
     "duration": 34.715678,
     "end_time": "2023-06-15T06:09:30.714049",
     "exception": false,
     "start_time": "2023-06-15T06:08:55.998371",
     "status": "completed"
    },
    "tags": []
   },
   "outputs": [
    {
     "name": "stdout",
     "output_type": "stream",
     "text": [
      "[nltk_data] Error loading stopwords: <urlopen error [Errno -3]\n",
      "[nltk_data]     Temporary failure in name resolution>\n"
     ]
    },
    {
     "data": {
      "text/plain": [
       "False"
      ]
     },
     "execution_count": 4,
     "metadata": {},
     "output_type": "execute_result"
    }
   ],
   "source": [
    "#NLP Intialize\n",
    "import spacy\n",
    "import nltk\n",
    "\n",
    "nlp=spacy.load(name='en_core_web_sm')\n",
    "nltk.download('stopwords')"
   ]
  },
  {
   "cell_type": "markdown",
   "id": "0442079a",
   "metadata": {
    "papermill": {
     "duration": 0.010148,
     "end_time": "2023-06-15T06:09:30.734484",
     "exception": false,
     "start_time": "2023-06-15T06:09:30.724336",
     "status": "completed"
    },
    "tags": []
   },
   "source": [
    "#### ***2. Stopwards in SpaCy nd NLTK packages***"
   ]
  },
  {
   "cell_type": "code",
   "execution_count": 5,
   "id": "934dbb5b",
   "metadata": {
    "execution": {
     "iopub.execute_input": "2023-06-15T06:09:30.757860Z",
     "iopub.status.busy": "2023-06-15T06:09:30.756659Z",
     "iopub.status.idle": "2023-06-15T06:09:30.763370Z",
     "shell.execute_reply": "2023-06-15T06:09:30.762059Z"
    },
    "id": "qzePWJNIUFCI",
    "outputId": "1fb9aa6a-cc92-49ba-fcad-8d154293efff",
    "papermill": {
     "duration": 0.020368,
     "end_time": "2023-06-15T06:09:30.765259",
     "exception": false,
     "start_time": "2023-06-15T06:09:30.744891",
     "status": "completed"
    },
    "tags": []
   },
   "outputs": [
    {
     "data": {
      "text/plain": [
       "326"
      ]
     },
     "execution_count": 5,
     "metadata": {},
     "output_type": "execute_result"
    }
   ],
   "source": [
    "len(nlp.Defaults.stop_words) #stopwords in spacy lib"
   ]
  },
  {
   "cell_type": "code",
   "execution_count": 6,
   "id": "035b26f9",
   "metadata": {
    "execution": {
     "iopub.execute_input": "2023-06-15T06:09:30.787289Z",
     "iopub.status.busy": "2023-06-15T06:09:30.786954Z",
     "iopub.status.idle": "2023-06-15T06:09:30.799676Z",
     "shell.execute_reply": "2023-06-15T06:09:30.798776Z"
    },
    "id": "onMksdgkUWq2",
    "outputId": "0cc95a82-8984-4219-c716-de38e5fdf32c",
    "papermill": {
     "duration": 0.026439,
     "end_time": "2023-06-15T06:09:30.801939",
     "exception": false,
     "start_time": "2023-06-15T06:09:30.775500",
     "status": "completed"
    },
    "tags": []
   },
   "outputs": [
    {
     "data": {
      "text/plain": [
       "179"
      ]
     },
     "execution_count": 6,
     "metadata": {},
     "output_type": "execute_result"
    }
   ],
   "source": [
    "from nltk.corpus import stopwords\n",
    "len(stopwords.words('english')) #stopwords in nltk lib"
   ]
  },
  {
   "cell_type": "code",
   "execution_count": 7,
   "id": "943cfac8",
   "metadata": {
    "execution": {
     "iopub.execute_input": "2023-06-15T06:09:30.824630Z",
     "iopub.status.busy": "2023-06-15T06:09:30.824315Z",
     "iopub.status.idle": "2023-06-15T06:09:30.831495Z",
     "shell.execute_reply": "2023-06-15T06:09:30.830299Z"
    },
    "id": "ZlF-msAOVXiP",
    "outputId": "6e3a039b-7be5-475e-88ee-d05c5276472a",
    "papermill": {
     "duration": 0.020933,
     "end_time": "2023-06-15T06:09:30.833570",
     "exception": false,
     "start_time": "2023-06-15T06:09:30.812637",
     "status": "completed"
    },
    "tags": []
   },
   "outputs": [
    {
     "data": {
      "text/plain": [
       "382"
      ]
     },
     "execution_count": 7,
     "metadata": {},
     "output_type": "execute_result"
    }
   ],
   "source": [
    "eng_stopwords = list(set(list(nlp.Defaults.stop_words) + list(stopwords.words('english'))))\n",
    "len(eng_stopwords)"
   ]
  },
  {
   "cell_type": "code",
   "execution_count": 8,
   "id": "af4df2e5",
   "metadata": {
    "execution": {
     "iopub.execute_input": "2023-06-15T06:09:30.856682Z",
     "iopub.status.busy": "2023-06-15T06:09:30.856193Z",
     "iopub.status.idle": "2023-06-15T06:09:30.859434Z",
     "shell.execute_reply": "2023-06-15T06:09:30.858803Z"
    },
    "id": "vHhP2EdXdo1g",
    "papermill": {
     "duration": 0.017101,
     "end_time": "2023-06-15T06:09:30.861446",
     "exception": false,
     "start_time": "2023-06-15T06:09:30.844345",
     "status": "completed"
    },
    "tags": []
   },
   "outputs": [],
   "source": [
    "import re\n",
    "pattern = '[^a-zA-Z]'"
   ]
  },
  {
   "cell_type": "code",
   "execution_count": 9,
   "id": "ab27137d",
   "metadata": {
    "execution": {
     "iopub.execute_input": "2023-06-15T06:09:30.885155Z",
     "iopub.status.busy": "2023-06-15T06:09:30.884605Z",
     "iopub.status.idle": "2023-06-15T06:09:30.918423Z",
     "shell.execute_reply": "2023-06-15T06:09:30.917444Z"
    },
    "id": "vjnIMKT5bCyB",
    "outputId": "3d8d135e-ba8e-4cbd-8f4a-a53f9057281a",
    "papermill": {
     "duration": 0.048402,
     "end_time": "2023-06-15T06:09:30.920609",
     "exception": false,
     "start_time": "2023-06-15T06:09:30.872207",
     "status": "completed"
    },
    "tags": []
   },
   "outputs": [
    {
     "name": "stdout",
     "output_type": "stream",
     "text": [
      "Wow... Loved this place.\n",
      "Wow\n",
      "...\n",
      "Loved\n",
      "this\n",
      "place\n",
      ".\n"
     ]
    }
   ],
   "source": [
    "## <<< testing functions >>>\n",
    "review_data['Review'][0]\n",
    "print(nlp(review_data['Review'][0]))\n",
    "for token in nlp(review_data['Review'][0]):\n",
    "  if token.text not in [eng_stopwords]:\n",
    "    print(token.text)\n"
   ]
  },
  {
   "cell_type": "markdown",
   "id": "d7239da3",
   "metadata": {
    "papermill": {
     "duration": 0.010312,
     "end_time": "2023-06-15T06:09:30.941674",
     "exception": false,
     "start_time": "2023-06-15T06:09:30.931362",
     "status": "completed"
    },
    "tags": []
   },
   "source": [
    "#### ***3. Text Processing:***\n",
    "\n",
    "*Here, we are doing **Data Cleaning** with following steps:*\n",
    "\n",
    "            1. Tokenization ---> nlp(x),\n",
    "            2. lemmatization/stemming ---> view.lemma_.lower()\n",
    "            3. Removing stop words---> view niether in eng_stopwords nor in string.punctuation\n",
    "            4. Removing punctuations---> re.sub(pattern,' ', ' '.join(<code>>))"
   ]
  },
  {
   "cell_type": "code",
   "execution_count": 10,
   "id": "33eec1f1",
   "metadata": {
    "execution": {
     "iopub.execute_input": "2023-06-15T06:09:30.964869Z",
     "iopub.status.busy": "2023-06-15T06:09:30.964507Z",
     "iopub.status.idle": "2023-06-15T06:09:36.818773Z",
     "shell.execute_reply": "2023-06-15T06:09:36.817736Z"
    },
    "id": "nV_j6UmTW9Bw",
    "outputId": "248d7cbd-c964-4b6c-b6f9-194e597dba8f",
    "papermill": {
     "duration": 5.868738,
     "end_time": "2023-06-15T06:09:36.821054",
     "exception": false,
     "start_time": "2023-06-15T06:09:30.952316",
     "status": "completed"
    },
    "tags": []
   },
   "outputs": [
    {
     "data": {
      "text/html": [
       "<div>\n",
       "<style scoped>\n",
       "    .dataframe tbody tr th:only-of-type {\n",
       "        vertical-align: middle;\n",
       "    }\n",
       "\n",
       "    .dataframe tbody tr th {\n",
       "        vertical-align: top;\n",
       "    }\n",
       "\n",
       "    .dataframe thead th {\n",
       "        text-align: right;\n",
       "    }\n",
       "</style>\n",
       "<table border=\"1\" class=\"dataframe\">\n",
       "  <thead>\n",
       "    <tr style=\"text-align: right;\">\n",
       "      <th></th>\n",
       "      <th>Review</th>\n",
       "      <th>Liked</th>\n",
       "    </tr>\n",
       "  </thead>\n",
       "  <tbody>\n",
       "    <tr>\n",
       "      <th>0</th>\n",
       "      <td>wow     love place</td>\n",
       "      <td>1</td>\n",
       "    </tr>\n",
       "    <tr>\n",
       "      <th>1</th>\n",
       "      <td>crust good</td>\n",
       "      <td>0</td>\n",
       "    </tr>\n",
       "    <tr>\n",
       "      <th>2</th>\n",
       "      <td>not tasty texture nasty</td>\n",
       "      <td>0</td>\n",
       "    </tr>\n",
       "    <tr>\n",
       "      <th>3</th>\n",
       "      <td>stop late may bank holiday rick steve recommen...</td>\n",
       "      <td>1</td>\n",
       "    </tr>\n",
       "    <tr>\n",
       "      <th>4</th>\n",
       "      <td>the selection menu great price</td>\n",
       "      <td>1</td>\n",
       "    </tr>\n",
       "  </tbody>\n",
       "</table>\n",
       "</div>"
      ],
      "text/plain": [
       "                                              Review  Liked\n",
       "0                               wow     love place        1\n",
       "1                                       crust good        0\n",
       "2                          not tasty texture nasty        0\n",
       "3  stop late may bank holiday rick steve recommen...      1\n",
       "4                   the selection menu great price        1"
      ]
     },
     "execution_count": 10,
     "metadata": {},
     "output_type": "execute_result"
    }
   ],
   "source": [
    "#creating doc_type object ---> nlp(x)\n",
    "#Tokenization ---> nlp(x),\n",
    "#lemmatization/stemming ---> view.lemma_.lower()\n",
    "#Removing stop words---> view not in [eng_stopwords, string.punctuation]\n",
    "#Removing punctuations---> re.sub(pattern,' ', ' '.join([<<code>>]))\n",
    "\n",
    "review_data['Review']= review_data['Review'].apply(lambda x: re.sub(pattern,' ', ' '.join([view.lemma_.lower() for view in nlp(x) if view.text not in eng_stopwords])))\n",
    "review_data.head()"
   ]
  },
  {
   "cell_type": "markdown",
   "id": "507af7d9",
   "metadata": {
    "id": "wPe1vagfvISY",
    "papermill": {
     "duration": 0.010741,
     "end_time": "2023-06-15T06:09:36.843432",
     "exception": false,
     "start_time": "2023-06-15T06:09:36.832691",
     "status": "completed"
    },
    "tags": []
   },
   "source": [
    "### ***Algorithm- Bag of Words***"
   ]
  },
  {
   "cell_type": "code",
   "execution_count": 11,
   "id": "84c237b8",
   "metadata": {
    "execution": {
     "iopub.execute_input": "2023-06-15T06:09:36.867703Z",
     "iopub.status.busy": "2023-06-15T06:09:36.866665Z",
     "iopub.status.idle": "2023-06-15T06:09:36.925773Z",
     "shell.execute_reply": "2023-06-15T06:09:36.924772Z"
    },
    "id": "kAp6J-mDgCT6",
    "outputId": "682b6cc1-8464-4516-9c3b-f982966d45ac",
    "papermill": {
     "duration": 0.073431,
     "end_time": "2023-06-15T06:09:36.927952",
     "exception": false,
     "start_time": "2023-06-15T06:09:36.854521",
     "status": "completed"
    },
    "tags": []
   },
   "outputs": [
    {
     "data": {
      "text/html": [
       "<div>\n",
       "<style scoped>\n",
       "    .dataframe tbody tr th:only-of-type {\n",
       "        vertical-align: middle;\n",
       "    }\n",
       "\n",
       "    .dataframe tbody tr th {\n",
       "        vertical-align: top;\n",
       "    }\n",
       "\n",
       "    .dataframe thead th {\n",
       "        text-align: right;\n",
       "    }\n",
       "</style>\n",
       "<table border=\"1\" class=\"dataframe\">\n",
       "  <thead>\n",
       "    <tr style=\"text-align: right;\">\n",
       "      <th></th>\n",
       "      <th>absolute</th>\n",
       "      <th>absolutely</th>\n",
       "      <th>absolutley</th>\n",
       "      <th>accident</th>\n",
       "      <th>accommodation</th>\n",
       "      <th>accomodate</th>\n",
       "      <th>accordingly</th>\n",
       "      <th>accountant</th>\n",
       "      <th>ache</th>\n",
       "      <th>acknowledge</th>\n",
       "      <th>...</th>\n",
       "      <th>yeah</th>\n",
       "      <th>year</th>\n",
       "      <th>yellow</th>\n",
       "      <th>yellowtail</th>\n",
       "      <th>yelper</th>\n",
       "      <th>yucky</th>\n",
       "      <th>yukon</th>\n",
       "      <th>yum</th>\n",
       "      <th>yummy</th>\n",
       "      <th>zero</th>\n",
       "    </tr>\n",
       "    <tr>\n",
       "      <th>Review</th>\n",
       "      <th></th>\n",
       "      <th></th>\n",
       "      <th></th>\n",
       "      <th></th>\n",
       "      <th></th>\n",
       "      <th></th>\n",
       "      <th></th>\n",
       "      <th></th>\n",
       "      <th></th>\n",
       "      <th></th>\n",
       "      <th></th>\n",
       "      <th></th>\n",
       "      <th></th>\n",
       "      <th></th>\n",
       "      <th></th>\n",
       "      <th></th>\n",
       "      <th></th>\n",
       "      <th></th>\n",
       "      <th></th>\n",
       "      <th></th>\n",
       "      <th></th>\n",
       "    </tr>\n",
       "  </thead>\n",
       "  <tbody>\n",
       "    <tr>\n",
       "      <th>wow     love place</th>\n",
       "      <td>0.0</td>\n",
       "      <td>0.0</td>\n",
       "      <td>0.0</td>\n",
       "      <td>0.0</td>\n",
       "      <td>0.0</td>\n",
       "      <td>0.0</td>\n",
       "      <td>0.0</td>\n",
       "      <td>0.0</td>\n",
       "      <td>0.0</td>\n",
       "      <td>0.0</td>\n",
       "      <td>...</td>\n",
       "      <td>0.0</td>\n",
       "      <td>0.0</td>\n",
       "      <td>0.0</td>\n",
       "      <td>0.0</td>\n",
       "      <td>0.0</td>\n",
       "      <td>0.0</td>\n",
       "      <td>0.0</td>\n",
       "      <td>0.0</td>\n",
       "      <td>0.0</td>\n",
       "      <td>0.0</td>\n",
       "    </tr>\n",
       "    <tr>\n",
       "      <th>crust good</th>\n",
       "      <td>0.0</td>\n",
       "      <td>0.0</td>\n",
       "      <td>0.0</td>\n",
       "      <td>0.0</td>\n",
       "      <td>0.0</td>\n",
       "      <td>0.0</td>\n",
       "      <td>0.0</td>\n",
       "      <td>0.0</td>\n",
       "      <td>0.0</td>\n",
       "      <td>0.0</td>\n",
       "      <td>...</td>\n",
       "      <td>0.0</td>\n",
       "      <td>0.0</td>\n",
       "      <td>0.0</td>\n",
       "      <td>0.0</td>\n",
       "      <td>0.0</td>\n",
       "      <td>0.0</td>\n",
       "      <td>0.0</td>\n",
       "      <td>0.0</td>\n",
       "      <td>0.0</td>\n",
       "      <td>0.0</td>\n",
       "    </tr>\n",
       "    <tr>\n",
       "      <th>not tasty texture nasty</th>\n",
       "      <td>0.0</td>\n",
       "      <td>0.0</td>\n",
       "      <td>0.0</td>\n",
       "      <td>0.0</td>\n",
       "      <td>0.0</td>\n",
       "      <td>0.0</td>\n",
       "      <td>0.0</td>\n",
       "      <td>0.0</td>\n",
       "      <td>0.0</td>\n",
       "      <td>0.0</td>\n",
       "      <td>...</td>\n",
       "      <td>0.0</td>\n",
       "      <td>0.0</td>\n",
       "      <td>0.0</td>\n",
       "      <td>0.0</td>\n",
       "      <td>0.0</td>\n",
       "      <td>0.0</td>\n",
       "      <td>0.0</td>\n",
       "      <td>0.0</td>\n",
       "      <td>0.0</td>\n",
       "      <td>0.0</td>\n",
       "    </tr>\n",
       "    <tr>\n",
       "      <th>stop late may bank holiday rick steve recommendation love</th>\n",
       "      <td>0.0</td>\n",
       "      <td>0.0</td>\n",
       "      <td>0.0</td>\n",
       "      <td>0.0</td>\n",
       "      <td>0.0</td>\n",
       "      <td>0.0</td>\n",
       "      <td>0.0</td>\n",
       "      <td>0.0</td>\n",
       "      <td>0.0</td>\n",
       "      <td>0.0</td>\n",
       "      <td>...</td>\n",
       "      <td>0.0</td>\n",
       "      <td>0.0</td>\n",
       "      <td>0.0</td>\n",
       "      <td>0.0</td>\n",
       "      <td>0.0</td>\n",
       "      <td>0.0</td>\n",
       "      <td>0.0</td>\n",
       "      <td>0.0</td>\n",
       "      <td>0.0</td>\n",
       "      <td>0.0</td>\n",
       "    </tr>\n",
       "    <tr>\n",
       "      <th>the selection menu great price</th>\n",
       "      <td>0.0</td>\n",
       "      <td>0.0</td>\n",
       "      <td>0.0</td>\n",
       "      <td>0.0</td>\n",
       "      <td>0.0</td>\n",
       "      <td>0.0</td>\n",
       "      <td>0.0</td>\n",
       "      <td>0.0</td>\n",
       "      <td>0.0</td>\n",
       "      <td>0.0</td>\n",
       "      <td>...</td>\n",
       "      <td>0.0</td>\n",
       "      <td>0.0</td>\n",
       "      <td>0.0</td>\n",
       "      <td>0.0</td>\n",
       "      <td>0.0</td>\n",
       "      <td>0.0</td>\n",
       "      <td>0.0</td>\n",
       "      <td>0.0</td>\n",
       "      <td>0.0</td>\n",
       "      <td>0.0</td>\n",
       "    </tr>\n",
       "  </tbody>\n",
       "</table>\n",
       "<p>5 rows × 1507 columns</p>\n",
       "</div>"
      ],
      "text/plain": [
       "                                                    absolute  absolutely  \\\n",
       "Review                                                                     \n",
       "wow     love place                                       0.0         0.0   \n",
       "crust good                                               0.0         0.0   \n",
       "not tasty texture nasty                                  0.0         0.0   \n",
       "stop late may bank holiday rick steve recommend...       0.0         0.0   \n",
       "the selection menu great price                           0.0         0.0   \n",
       "\n",
       "                                                    absolutley  accident  \\\n",
       "Review                                                                     \n",
       "wow     love place                                         0.0       0.0   \n",
       "crust good                                                 0.0       0.0   \n",
       "not tasty texture nasty                                    0.0       0.0   \n",
       "stop late may bank holiday rick steve recommend...         0.0       0.0   \n",
       "the selection menu great price                             0.0       0.0   \n",
       "\n",
       "                                                    accommodation  accomodate  \\\n",
       "Review                                                                          \n",
       "wow     love place                                            0.0         0.0   \n",
       "crust good                                                    0.0         0.0   \n",
       "not tasty texture nasty                                       0.0         0.0   \n",
       "stop late may bank holiday rick steve recommend...            0.0         0.0   \n",
       "the selection menu great price                                0.0         0.0   \n",
       "\n",
       "                                                    accordingly  accountant  \\\n",
       "Review                                                                        \n",
       "wow     love place                                          0.0         0.0   \n",
       "crust good                                                  0.0         0.0   \n",
       "not tasty texture nasty                                     0.0         0.0   \n",
       "stop late may bank holiday rick steve recommend...          0.0         0.0   \n",
       "the selection menu great price                              0.0         0.0   \n",
       "\n",
       "                                                    ache  acknowledge  ...  \\\n",
       "Review                                                                 ...   \n",
       "wow     love place                                   0.0          0.0  ...   \n",
       "crust good                                           0.0          0.0  ...   \n",
       "not tasty texture nasty                              0.0          0.0  ...   \n",
       "stop late may bank holiday rick steve recommend...   0.0          0.0  ...   \n",
       "the selection menu great price                       0.0          0.0  ...   \n",
       "\n",
       "                                                    yeah  year  yellow  \\\n",
       "Review                                                                   \n",
       "wow     love place                                   0.0   0.0     0.0   \n",
       "crust good                                           0.0   0.0     0.0   \n",
       "not tasty texture nasty                              0.0   0.0     0.0   \n",
       "stop late may bank holiday rick steve recommend...   0.0   0.0     0.0   \n",
       "the selection menu great price                       0.0   0.0     0.0   \n",
       "\n",
       "                                                    yellowtail  yelper  yucky  \\\n",
       "Review                                                                          \n",
       "wow     love place                                         0.0     0.0    0.0   \n",
       "crust good                                                 0.0     0.0    0.0   \n",
       "not tasty texture nasty                                    0.0     0.0    0.0   \n",
       "stop late may bank holiday rick steve recommend...         0.0     0.0    0.0   \n",
       "the selection menu great price                             0.0     0.0    0.0   \n",
       "\n",
       "                                                    yukon  yum  yummy  zero  \n",
       "Review                                                                       \n",
       "wow     love place                                    0.0  0.0    0.0   0.0  \n",
       "crust good                                            0.0  0.0    0.0   0.0  \n",
       "not tasty texture nasty                               0.0  0.0    0.0   0.0  \n",
       "stop late may bank holiday rick steve recommend...    0.0  0.0    0.0   0.0  \n",
       "the selection menu great price                        0.0  0.0    0.0   0.0  \n",
       "\n",
       "[5 rows x 1507 columns]"
      ]
     },
     "execution_count": 11,
     "metadata": {},
     "output_type": "execute_result"
    }
   ],
   "source": [
    "#Bag of Words Algorithm\n",
    "from sklearn.feature_extraction.text import TfidfVectorizer\n",
    "\n",
    "vectorizer= TfidfVectorizer(stop_words='english')\n",
    "x = vectorizer.fit_transform(review_data['Review'])\n",
    "\n",
    "feature_names = vectorizer.get_feature_names_out()\n",
    "\n",
    "x_df= pd.DataFrame(data=x.todense(), index=review_data.Review, columns=feature_names)\n",
    "x_df.head()"
   ]
  },
  {
   "cell_type": "code",
   "execution_count": 12,
   "id": "b73c2cfd",
   "metadata": {
    "execution": {
     "iopub.execute_input": "2023-06-15T06:09:36.952178Z",
     "iopub.status.busy": "2023-06-15T06:09:36.951644Z",
     "iopub.status.idle": "2023-06-15T06:09:36.958037Z",
     "shell.execute_reply": "2023-06-15T06:09:36.956953Z"
    },
    "id": "MWQZBbhe-fpz",
    "outputId": "b9c3b719-690b-46d2-8219-8933e2982aa1",
    "papermill": {
     "duration": 0.020669,
     "end_time": "2023-06-15T06:09:36.959889",
     "exception": false,
     "start_time": "2023-06-15T06:09:36.939220",
     "status": "completed"
    },
    "tags": []
   },
   "outputs": [
    {
     "data": {
      "text/plain": [
       "(1000, 1507)"
      ]
     },
     "execution_count": 12,
     "metadata": {},
     "output_type": "execute_result"
    }
   ],
   "source": [
    "x_df.shape"
   ]
  },
  {
   "cell_type": "code",
   "execution_count": 13,
   "id": "2a4b7ad5",
   "metadata": {
    "execution": {
     "iopub.execute_input": "2023-06-15T06:09:36.984604Z",
     "iopub.status.busy": "2023-06-15T06:09:36.984276Z",
     "iopub.status.idle": "2023-06-15T06:09:36.988978Z",
     "shell.execute_reply": "2023-06-15T06:09:36.987869Z"
    },
    "id": "e24mX-S2BHdp",
    "papermill": {
     "duration": 0.019528,
     "end_time": "2023-06-15T06:09:36.991070",
     "exception": false,
     "start_time": "2023-06-15T06:09:36.971542",
     "status": "completed"
    },
    "tags": []
   },
   "outputs": [],
   "source": [
    "y= review_data.Liked"
   ]
  },
  {
   "cell_type": "markdown",
   "id": "39f3a2c9",
   "metadata": {
    "papermill": {
     "duration": 0.010442,
     "end_time": "2023-06-15T06:09:37.012865",
     "exception": false,
     "start_time": "2023-06-15T06:09:37.002423",
     "status": "completed"
    },
    "tags": []
   },
   "source": [
    "# **Spliting Data into Training and Testing Set**"
   ]
  },
  {
   "cell_type": "code",
   "execution_count": 14,
   "id": "862db034",
   "metadata": {
    "execution": {
     "iopub.execute_input": "2023-06-15T06:09:37.038341Z",
     "iopub.status.busy": "2023-06-15T06:09:37.037966Z",
     "iopub.status.idle": "2023-06-15T06:09:37.047686Z",
     "shell.execute_reply": "2023-06-15T06:09:37.046535Z"
    },
    "id": "Edeq0rlX-h4W",
    "papermill": {
     "duration": 0.026149,
     "end_time": "2023-06-15T06:09:37.049693",
     "exception": false,
     "start_time": "2023-06-15T06:09:37.023544",
     "status": "completed"
    },
    "tags": []
   },
   "outputs": [],
   "source": [
    "from sklearn.model_selection import train_test_split\n",
    "\n",
    "x_train,x_test,y_train,y_test= train_test_split(x_df, y, test_size=0.20, random_state=41)"
   ]
  },
  {
   "cell_type": "code",
   "execution_count": 15,
   "id": "3e9ed904",
   "metadata": {
    "execution": {
     "iopub.execute_input": "2023-06-15T06:09:37.076765Z",
     "iopub.status.busy": "2023-06-15T06:09:37.076441Z",
     "iopub.status.idle": "2023-06-15T06:09:37.083030Z",
     "shell.execute_reply": "2023-06-15T06:09:37.081716Z"
    },
    "id": "afwOT9hHChFz",
    "outputId": "870150de-bce0-4d1b-d470-8799c0988159",
    "papermill": {
     "duration": 0.023552,
     "end_time": "2023-06-15T06:09:37.085489",
     "exception": false,
     "start_time": "2023-06-15T06:09:37.061937",
     "status": "completed"
    },
    "tags": []
   },
   "outputs": [
    {
     "data": {
      "text/plain": [
       "((800, 1507), (200, 1507), (800,), (200,))"
      ]
     },
     "execution_count": 15,
     "metadata": {},
     "output_type": "execute_result"
    }
   ],
   "source": [
    "x_train.shape, x_test.shape, y_train.shape, y_test.shape"
   ]
  },
  {
   "cell_type": "markdown",
   "id": "65f25af1",
   "metadata": {
    "papermill": {
     "duration": 0.011289,
     "end_time": "2023-06-15T06:09:37.108472",
     "exception": false,
     "start_time": "2023-06-15T06:09:37.097183",
     "status": "completed"
    },
    "tags": []
   },
   "source": [
    "# **Predictive Modelling**"
   ]
  },
  {
   "cell_type": "code",
   "execution_count": 16,
   "id": "f9fddca0",
   "metadata": {
    "execution": {
     "iopub.execute_input": "2023-06-15T06:09:37.133856Z",
     "iopub.status.busy": "2023-06-15T06:09:37.133465Z",
     "iopub.status.idle": "2023-06-15T06:09:37.137842Z",
     "shell.execute_reply": "2023-06-15T06:09:37.136726Z"
    },
    "papermill": {
     "duration": 0.018936,
     "end_time": "2023-06-15T06:09:37.139662",
     "exception": false,
     "start_time": "2023-06-15T06:09:37.120726",
     "status": "completed"
    },
    "tags": []
   },
   "outputs": [],
   "source": [
    "model_outputs= {}"
   ]
  },
  {
   "cell_type": "markdown",
   "id": "0619f137",
   "metadata": {
    "papermill": {
     "duration": 0.010969,
     "end_time": "2023-06-15T06:09:37.162177",
     "exception": false,
     "start_time": "2023-06-15T06:09:37.151208",
     "status": "completed"
    },
    "tags": []
   },
   "source": [
    "### ***#Naive Bayes***"
   ]
  },
  {
   "cell_type": "code",
   "execution_count": 17,
   "id": "022a7bb0",
   "metadata": {
    "execution": {
     "iopub.execute_input": "2023-06-15T06:09:37.186384Z",
     "iopub.status.busy": "2023-06-15T06:09:37.185967Z",
     "iopub.status.idle": "2023-06-15T06:09:37.227615Z",
     "shell.execute_reply": "2023-06-15T06:09:37.226255Z"
    },
    "id": "YbqrDmMuC1dS",
    "outputId": "91111a33-9f71-4b9a-c776-9957a27d316d",
    "papermill": {
     "duration": 0.056773,
     "end_time": "2023-06-15T06:09:37.230126",
     "exception": false,
     "start_time": "2023-06-15T06:09:37.173353",
     "status": "completed"
    },
    "tags": []
   },
   "outputs": [
    {
     "data": {
      "text/html": [
       "<style>#sk-container-id-1 {color: black;background-color: white;}#sk-container-id-1 pre{padding: 0;}#sk-container-id-1 div.sk-toggleable {background-color: white;}#sk-container-id-1 label.sk-toggleable__label {cursor: pointer;display: block;width: 100%;margin-bottom: 0;padding: 0.3em;box-sizing: border-box;text-align: center;}#sk-container-id-1 label.sk-toggleable__label-arrow:before {content: \"▸\";float: left;margin-right: 0.25em;color: #696969;}#sk-container-id-1 label.sk-toggleable__label-arrow:hover:before {color: black;}#sk-container-id-1 div.sk-estimator:hover label.sk-toggleable__label-arrow:before {color: black;}#sk-container-id-1 div.sk-toggleable__content {max-height: 0;max-width: 0;overflow: hidden;text-align: left;background-color: #f0f8ff;}#sk-container-id-1 div.sk-toggleable__content pre {margin: 0.2em;color: black;border-radius: 0.25em;background-color: #f0f8ff;}#sk-container-id-1 input.sk-toggleable__control:checked~div.sk-toggleable__content {max-height: 200px;max-width: 100%;overflow: auto;}#sk-container-id-1 input.sk-toggleable__control:checked~label.sk-toggleable__label-arrow:before {content: \"▾\";}#sk-container-id-1 div.sk-estimator input.sk-toggleable__control:checked~label.sk-toggleable__label {background-color: #d4ebff;}#sk-container-id-1 div.sk-label input.sk-toggleable__control:checked~label.sk-toggleable__label {background-color: #d4ebff;}#sk-container-id-1 input.sk-hidden--visually {border: 0;clip: rect(1px 1px 1px 1px);clip: rect(1px, 1px, 1px, 1px);height: 1px;margin: -1px;overflow: hidden;padding: 0;position: absolute;width: 1px;}#sk-container-id-1 div.sk-estimator {font-family: monospace;background-color: #f0f8ff;border: 1px dotted black;border-radius: 0.25em;box-sizing: border-box;margin-bottom: 0.5em;}#sk-container-id-1 div.sk-estimator:hover {background-color: #d4ebff;}#sk-container-id-1 div.sk-parallel-item::after {content: \"\";width: 100%;border-bottom: 1px solid gray;flex-grow: 1;}#sk-container-id-1 div.sk-label:hover label.sk-toggleable__label {background-color: #d4ebff;}#sk-container-id-1 div.sk-serial::before {content: \"\";position: absolute;border-left: 1px solid gray;box-sizing: border-box;top: 0;bottom: 0;left: 50%;z-index: 0;}#sk-container-id-1 div.sk-serial {display: flex;flex-direction: column;align-items: center;background-color: white;padding-right: 0.2em;padding-left: 0.2em;position: relative;}#sk-container-id-1 div.sk-item {position: relative;z-index: 1;}#sk-container-id-1 div.sk-parallel {display: flex;align-items: stretch;justify-content: center;background-color: white;position: relative;}#sk-container-id-1 div.sk-item::before, #sk-container-id-1 div.sk-parallel-item::before {content: \"\";position: absolute;border-left: 1px solid gray;box-sizing: border-box;top: 0;bottom: 0;left: 50%;z-index: -1;}#sk-container-id-1 div.sk-parallel-item {display: flex;flex-direction: column;z-index: 1;position: relative;background-color: white;}#sk-container-id-1 div.sk-parallel-item:first-child::after {align-self: flex-end;width: 50%;}#sk-container-id-1 div.sk-parallel-item:last-child::after {align-self: flex-start;width: 50%;}#sk-container-id-1 div.sk-parallel-item:only-child::after {width: 0;}#sk-container-id-1 div.sk-dashed-wrapped {border: 1px dashed gray;margin: 0 0.4em 0.5em 0.4em;box-sizing: border-box;padding-bottom: 0.4em;background-color: white;}#sk-container-id-1 div.sk-label label {font-family: monospace;font-weight: bold;display: inline-block;line-height: 1.2em;}#sk-container-id-1 div.sk-label-container {text-align: center;}#sk-container-id-1 div.sk-container {/* jupyter's `normalize.less` sets `[hidden] { display: none; }` but bootstrap.min.css set `[hidden] { display: none !important; }` so we also need the `!important` here to be able to override the default hidden behavior on the sphinx rendered scikit-learn.org. See: https://github.com/scikit-learn/scikit-learn/issues/21755 */display: inline-block !important;position: relative;}#sk-container-id-1 div.sk-text-repr-fallback {display: none;}</style><div id=\"sk-container-id-1\" class=\"sk-top-container\"><div class=\"sk-text-repr-fallback\"><pre>GaussianNB()</pre><b>In a Jupyter environment, please rerun this cell to show the HTML representation or trust the notebook. <br />On GitHub, the HTML representation is unable to render, please try loading this page with nbviewer.org.</b></div><div class=\"sk-container\" hidden><div class=\"sk-item\"><div class=\"sk-estimator sk-toggleable\"><input class=\"sk-toggleable__control sk-hidden--visually\" id=\"sk-estimator-id-1\" type=\"checkbox\" checked><label for=\"sk-estimator-id-1\" class=\"sk-toggleable__label sk-toggleable__label-arrow\">GaussianNB</label><div class=\"sk-toggleable__content\"><pre>GaussianNB()</pre></div></div></div></div></div>"
      ],
      "text/plain": [
       "GaussianNB()"
      ]
     },
     "execution_count": 17,
     "metadata": {},
     "output_type": "execute_result"
    }
   ],
   "source": [
    "#Naive Bayes\n",
    "from sklearn.naive_bayes import GaussianNB\n",
    "nb_mdl= GaussianNB()\n",
    "\n",
    "nb_mdl.fit(x_train,y_train)"
   ]
  },
  {
   "cell_type": "code",
   "execution_count": 18,
   "id": "4809add9",
   "metadata": {
    "execution": {
     "iopub.execute_input": "2023-06-15T06:09:37.255221Z",
     "iopub.status.busy": "2023-06-15T06:09:37.254650Z",
     "iopub.status.idle": "2023-06-15T06:09:37.276510Z",
     "shell.execute_reply": "2023-06-15T06:09:37.275191Z"
    },
    "id": "AWgCeHWPEPkT",
    "papermill": {
     "duration": 0.037216,
     "end_time": "2023-06-15T06:09:37.279041",
     "exception": false,
     "start_time": "2023-06-15T06:09:37.241825",
     "status": "completed"
    },
    "tags": []
   },
   "outputs": [],
   "source": [
    "#prediction\n",
    "nb_pred= nb_mdl.predict(x_test)"
   ]
  },
  {
   "cell_type": "code",
   "execution_count": 19,
   "id": "e1aae1ff",
   "metadata": {
    "execution": {
     "iopub.execute_input": "2023-06-15T06:09:37.304182Z",
     "iopub.status.busy": "2023-06-15T06:09:37.303207Z",
     "iopub.status.idle": "2023-06-15T06:09:37.314313Z",
     "shell.execute_reply": "2023-06-15T06:09:37.313172Z"
    },
    "id": "OVuiZedGKVnj",
    "outputId": "0859600f-9f2a-48c7-dec3-ecd6b16b9a25",
    "papermill": {
     "duration": 0.025894,
     "end_time": "2023-06-15T06:09:37.316557",
     "exception": false,
     "start_time": "2023-06-15T06:09:37.290663",
     "status": "completed"
    },
    "tags": []
   },
   "outputs": [
    {
     "data": {
      "text/plain": [
       "{'GaussianNB': {'accuracy': 0.73,\n",
       "  'f1_score': 0.7567567567567568,\n",
       "  'mean_squared_error': 0.27}}"
      ]
     },
     "execution_count": 19,
     "metadata": {},
     "output_type": "execute_result"
    }
   ],
   "source": [
    "from sklearn.metrics import accuracy_score, confusion_matrix, f1_score, classification_report,mean_squared_error\n",
    "\n",
    "model_outputs['GaussianNB'] ={'accuracy':accuracy_score(y_true=y_test, y_pred=nb_pred),\n",
    "                              'f1_score':f1_score(y_true=y_test, y_pred=nb_pred),\n",
    "                              'mean_squared_error':mean_squared_error(y_true=y_test, y_pred=nb_pred)}\n",
    "\n",
    "model_outputs"
   ]
  },
  {
   "cell_type": "markdown",
   "id": "828d321b",
   "metadata": {
    "papermill": {
     "duration": 0.011335,
     "end_time": "2023-06-15T06:09:37.339809",
     "exception": false,
     "start_time": "2023-06-15T06:09:37.328474",
     "status": "completed"
    },
    "tags": []
   },
   "source": [
    "### **#Random Forest Classifier**"
   ]
  },
  {
   "cell_type": "code",
   "execution_count": 20,
   "id": "2d3887f7",
   "metadata": {
    "execution": {
     "iopub.execute_input": "2023-06-15T06:09:37.365705Z",
     "iopub.status.busy": "2023-06-15T06:09:37.364544Z",
     "iopub.status.idle": "2023-06-15T06:09:37.638211Z",
     "shell.execute_reply": "2023-06-15T06:09:37.636721Z"
    },
    "id": "-seU2Y35LowK",
    "papermill": {
     "duration": 0.288911,
     "end_time": "2023-06-15T06:09:37.640403",
     "exception": false,
     "start_time": "2023-06-15T06:09:37.351492",
     "status": "completed"
    },
    "tags": []
   },
   "outputs": [],
   "source": [
    "#RandomForestClassifier\n",
    "from sklearn.ensemble import RandomForestClassifier as RFC\n",
    "rfc=RFC(n_estimators=130, random_state=10, n_jobs=3)"
   ]
  },
  {
   "cell_type": "code",
   "execution_count": 21,
   "id": "cf523e95",
   "metadata": {
    "execution": {
     "iopub.execute_input": "2023-06-15T06:09:37.665273Z",
     "iopub.status.busy": "2023-06-15T06:09:37.664941Z",
     "iopub.status.idle": "2023-06-15T06:09:38.285837Z",
     "shell.execute_reply": "2023-06-15T06:09:38.285163Z"
    },
    "id": "9J-sjGe4M_cq",
    "outputId": "2ba5773c-ddb4-4ad9-d8c3-d9f152cbe1de",
    "papermill": {
     "duration": 0.635449,
     "end_time": "2023-06-15T06:09:38.287687",
     "exception": false,
     "start_time": "2023-06-15T06:09:37.652238",
     "status": "completed"
    },
    "tags": []
   },
   "outputs": [
    {
     "data": {
      "text/html": [
       "<style>#sk-container-id-2 {color: black;background-color: white;}#sk-container-id-2 pre{padding: 0;}#sk-container-id-2 div.sk-toggleable {background-color: white;}#sk-container-id-2 label.sk-toggleable__label {cursor: pointer;display: block;width: 100%;margin-bottom: 0;padding: 0.3em;box-sizing: border-box;text-align: center;}#sk-container-id-2 label.sk-toggleable__label-arrow:before {content: \"▸\";float: left;margin-right: 0.25em;color: #696969;}#sk-container-id-2 label.sk-toggleable__label-arrow:hover:before {color: black;}#sk-container-id-2 div.sk-estimator:hover label.sk-toggleable__label-arrow:before {color: black;}#sk-container-id-2 div.sk-toggleable__content {max-height: 0;max-width: 0;overflow: hidden;text-align: left;background-color: #f0f8ff;}#sk-container-id-2 div.sk-toggleable__content pre {margin: 0.2em;color: black;border-radius: 0.25em;background-color: #f0f8ff;}#sk-container-id-2 input.sk-toggleable__control:checked~div.sk-toggleable__content {max-height: 200px;max-width: 100%;overflow: auto;}#sk-container-id-2 input.sk-toggleable__control:checked~label.sk-toggleable__label-arrow:before {content: \"▾\";}#sk-container-id-2 div.sk-estimator input.sk-toggleable__control:checked~label.sk-toggleable__label {background-color: #d4ebff;}#sk-container-id-2 div.sk-label input.sk-toggleable__control:checked~label.sk-toggleable__label {background-color: #d4ebff;}#sk-container-id-2 input.sk-hidden--visually {border: 0;clip: rect(1px 1px 1px 1px);clip: rect(1px, 1px, 1px, 1px);height: 1px;margin: -1px;overflow: hidden;padding: 0;position: absolute;width: 1px;}#sk-container-id-2 div.sk-estimator {font-family: monospace;background-color: #f0f8ff;border: 1px dotted black;border-radius: 0.25em;box-sizing: border-box;margin-bottom: 0.5em;}#sk-container-id-2 div.sk-estimator:hover {background-color: #d4ebff;}#sk-container-id-2 div.sk-parallel-item::after {content: \"\";width: 100%;border-bottom: 1px solid gray;flex-grow: 1;}#sk-container-id-2 div.sk-label:hover label.sk-toggleable__label {background-color: #d4ebff;}#sk-container-id-2 div.sk-serial::before {content: \"\";position: absolute;border-left: 1px solid gray;box-sizing: border-box;top: 0;bottom: 0;left: 50%;z-index: 0;}#sk-container-id-2 div.sk-serial {display: flex;flex-direction: column;align-items: center;background-color: white;padding-right: 0.2em;padding-left: 0.2em;position: relative;}#sk-container-id-2 div.sk-item {position: relative;z-index: 1;}#sk-container-id-2 div.sk-parallel {display: flex;align-items: stretch;justify-content: center;background-color: white;position: relative;}#sk-container-id-2 div.sk-item::before, #sk-container-id-2 div.sk-parallel-item::before {content: \"\";position: absolute;border-left: 1px solid gray;box-sizing: border-box;top: 0;bottom: 0;left: 50%;z-index: -1;}#sk-container-id-2 div.sk-parallel-item {display: flex;flex-direction: column;z-index: 1;position: relative;background-color: white;}#sk-container-id-2 div.sk-parallel-item:first-child::after {align-self: flex-end;width: 50%;}#sk-container-id-2 div.sk-parallel-item:last-child::after {align-self: flex-start;width: 50%;}#sk-container-id-2 div.sk-parallel-item:only-child::after {width: 0;}#sk-container-id-2 div.sk-dashed-wrapped {border: 1px dashed gray;margin: 0 0.4em 0.5em 0.4em;box-sizing: border-box;padding-bottom: 0.4em;background-color: white;}#sk-container-id-2 div.sk-label label {font-family: monospace;font-weight: bold;display: inline-block;line-height: 1.2em;}#sk-container-id-2 div.sk-label-container {text-align: center;}#sk-container-id-2 div.sk-container {/* jupyter's `normalize.less` sets `[hidden] { display: none; }` but bootstrap.min.css set `[hidden] { display: none !important; }` so we also need the `!important` here to be able to override the default hidden behavior on the sphinx rendered scikit-learn.org. See: https://github.com/scikit-learn/scikit-learn/issues/21755 */display: inline-block !important;position: relative;}#sk-container-id-2 div.sk-text-repr-fallback {display: none;}</style><div id=\"sk-container-id-2\" class=\"sk-top-container\"><div class=\"sk-text-repr-fallback\"><pre>RandomForestClassifier(n_estimators=130, n_jobs=3, random_state=10)</pre><b>In a Jupyter environment, please rerun this cell to show the HTML representation or trust the notebook. <br />On GitHub, the HTML representation is unable to render, please try loading this page with nbviewer.org.</b></div><div class=\"sk-container\" hidden><div class=\"sk-item\"><div class=\"sk-estimator sk-toggleable\"><input class=\"sk-toggleable__control sk-hidden--visually\" id=\"sk-estimator-id-2\" type=\"checkbox\" checked><label for=\"sk-estimator-id-2\" class=\"sk-toggleable__label sk-toggleable__label-arrow\">RandomForestClassifier</label><div class=\"sk-toggleable__content\"><pre>RandomForestClassifier(n_estimators=130, n_jobs=3, random_state=10)</pre></div></div></div></div></div>"
      ],
      "text/plain": [
       "RandomForestClassifier(n_estimators=130, n_jobs=3, random_state=10)"
      ]
     },
     "execution_count": 21,
     "metadata": {},
     "output_type": "execute_result"
    }
   ],
   "source": [
    "rfc.fit(x_train,y_train)"
   ]
  },
  {
   "cell_type": "code",
   "execution_count": 22,
   "id": "c9c9914b",
   "metadata": {
    "execution": {
     "iopub.execute_input": "2023-06-15T06:09:38.314387Z",
     "iopub.status.busy": "2023-06-15T06:09:38.313741Z",
     "iopub.status.idle": "2023-06-15T06:09:38.371219Z",
     "shell.execute_reply": "2023-06-15T06:09:38.370457Z"
    },
    "id": "4aVogoXjNCYC",
    "papermill": {
     "duration": 0.073379,
     "end_time": "2023-06-15T06:09:38.373358",
     "exception": false,
     "start_time": "2023-06-15T06:09:38.299979",
     "status": "completed"
    },
    "tags": []
   },
   "outputs": [],
   "source": [
    "rfc_pred=rfc.predict(x_test)"
   ]
  },
  {
   "cell_type": "code",
   "execution_count": 23,
   "id": "45b86161",
   "metadata": {
    "execution": {
     "iopub.execute_input": "2023-06-15T06:09:38.399586Z",
     "iopub.status.busy": "2023-06-15T06:09:38.398854Z",
     "iopub.status.idle": "2023-06-15T06:09:38.408480Z",
     "shell.execute_reply": "2023-06-15T06:09:38.407637Z"
    },
    "id": "55afIqyFNLu6",
    "outputId": "548f8e56-c3eb-4df9-9ed4-45bd8d76eca6",
    "papermill": {
     "duration": 0.025294,
     "end_time": "2023-06-15T06:09:38.410772",
     "exception": false,
     "start_time": "2023-06-15T06:09:38.385478",
     "status": "completed"
    },
    "tags": []
   },
   "outputs": [
    {
     "data": {
      "text/plain": [
       "{'GaussianNB': {'accuracy': 0.73,\n",
       "  'f1_score': 0.7567567567567568,\n",
       "  'mean_squared_error': 0.27},\n",
       " 'RandomForestClassifier': {'accuracy': 0.78,\n",
       "  'f1_score': 0.7411764705882353,\n",
       "  'mean_squared_error': 0.22}}"
      ]
     },
     "execution_count": 23,
     "metadata": {},
     "output_type": "execute_result"
    }
   ],
   "source": [
    "model_outputs['RandomForestClassifier'] ={'accuracy':accuracy_score(y_true=y_test, y_pred=rfc_pred),\n",
    "                              'f1_score':f1_score(y_true=y_test, y_pred=rfc_pred),\n",
    "                              'mean_squared_error':mean_squared_error(y_true=y_test, y_pred=rfc_pred)}\n",
    "\n",
    "model_outputs"
   ]
  },
  {
   "cell_type": "markdown",
   "id": "de6ef561",
   "metadata": {
    "papermill": {
     "duration": 0.011816,
     "end_time": "2023-06-15T06:09:38.434641",
     "exception": false,
     "start_time": "2023-06-15T06:09:38.422825",
     "status": "completed"
    },
    "tags": []
   },
   "source": [
    "### **#Support Vector Machine**"
   ]
  },
  {
   "cell_type": "code",
   "execution_count": 24,
   "id": "93913515",
   "metadata": {
    "execution": {
     "iopub.execute_input": "2023-06-15T06:09:38.461705Z",
     "iopub.status.busy": "2023-06-15T06:09:38.460286Z",
     "iopub.status.idle": "2023-06-15T06:09:38.466117Z",
     "shell.execute_reply": "2023-06-15T06:09:38.465212Z"
    },
    "id": "zmDOfSnkN62c",
    "papermill": {
     "duration": 0.021313,
     "end_time": "2023-06-15T06:09:38.468224",
     "exception": false,
     "start_time": "2023-06-15T06:09:38.446911",
     "status": "completed"
    },
    "tags": []
   },
   "outputs": [],
   "source": [
    "#Support Vector Machine\n",
    "from sklearn.svm import SVC\n",
    "\n",
    "svc=SVC(random_state=41)"
   ]
  },
  {
   "cell_type": "code",
   "execution_count": 25,
   "id": "c5c7e262",
   "metadata": {
    "execution": {
     "iopub.execute_input": "2023-06-15T06:09:38.494892Z",
     "iopub.status.busy": "2023-06-15T06:09:38.493596Z",
     "iopub.status.idle": "2023-06-15T06:09:38.697016Z",
     "shell.execute_reply": "2023-06-15T06:09:38.696162Z"
    },
    "id": "tHyLES3AOJOs",
    "outputId": "b35c3974-5bf4-4aa9-f37d-ceb9a49f0d02",
    "papermill": {
     "duration": 0.21851,
     "end_time": "2023-06-15T06:09:38.698850",
     "exception": false,
     "start_time": "2023-06-15T06:09:38.480340",
     "status": "completed"
    },
    "tags": []
   },
   "outputs": [
    {
     "data": {
      "text/html": [
       "<style>#sk-container-id-3 {color: black;background-color: white;}#sk-container-id-3 pre{padding: 0;}#sk-container-id-3 div.sk-toggleable {background-color: white;}#sk-container-id-3 label.sk-toggleable__label {cursor: pointer;display: block;width: 100%;margin-bottom: 0;padding: 0.3em;box-sizing: border-box;text-align: center;}#sk-container-id-3 label.sk-toggleable__label-arrow:before {content: \"▸\";float: left;margin-right: 0.25em;color: #696969;}#sk-container-id-3 label.sk-toggleable__label-arrow:hover:before {color: black;}#sk-container-id-3 div.sk-estimator:hover label.sk-toggleable__label-arrow:before {color: black;}#sk-container-id-3 div.sk-toggleable__content {max-height: 0;max-width: 0;overflow: hidden;text-align: left;background-color: #f0f8ff;}#sk-container-id-3 div.sk-toggleable__content pre {margin: 0.2em;color: black;border-radius: 0.25em;background-color: #f0f8ff;}#sk-container-id-3 input.sk-toggleable__control:checked~div.sk-toggleable__content {max-height: 200px;max-width: 100%;overflow: auto;}#sk-container-id-3 input.sk-toggleable__control:checked~label.sk-toggleable__label-arrow:before {content: \"▾\";}#sk-container-id-3 div.sk-estimator input.sk-toggleable__control:checked~label.sk-toggleable__label {background-color: #d4ebff;}#sk-container-id-3 div.sk-label input.sk-toggleable__control:checked~label.sk-toggleable__label {background-color: #d4ebff;}#sk-container-id-3 input.sk-hidden--visually {border: 0;clip: rect(1px 1px 1px 1px);clip: rect(1px, 1px, 1px, 1px);height: 1px;margin: -1px;overflow: hidden;padding: 0;position: absolute;width: 1px;}#sk-container-id-3 div.sk-estimator {font-family: monospace;background-color: #f0f8ff;border: 1px dotted black;border-radius: 0.25em;box-sizing: border-box;margin-bottom: 0.5em;}#sk-container-id-3 div.sk-estimator:hover {background-color: #d4ebff;}#sk-container-id-3 div.sk-parallel-item::after {content: \"\";width: 100%;border-bottom: 1px solid gray;flex-grow: 1;}#sk-container-id-3 div.sk-label:hover label.sk-toggleable__label {background-color: #d4ebff;}#sk-container-id-3 div.sk-serial::before {content: \"\";position: absolute;border-left: 1px solid gray;box-sizing: border-box;top: 0;bottom: 0;left: 50%;z-index: 0;}#sk-container-id-3 div.sk-serial {display: flex;flex-direction: column;align-items: center;background-color: white;padding-right: 0.2em;padding-left: 0.2em;position: relative;}#sk-container-id-3 div.sk-item {position: relative;z-index: 1;}#sk-container-id-3 div.sk-parallel {display: flex;align-items: stretch;justify-content: center;background-color: white;position: relative;}#sk-container-id-3 div.sk-item::before, #sk-container-id-3 div.sk-parallel-item::before {content: \"\";position: absolute;border-left: 1px solid gray;box-sizing: border-box;top: 0;bottom: 0;left: 50%;z-index: -1;}#sk-container-id-3 div.sk-parallel-item {display: flex;flex-direction: column;z-index: 1;position: relative;background-color: white;}#sk-container-id-3 div.sk-parallel-item:first-child::after {align-self: flex-end;width: 50%;}#sk-container-id-3 div.sk-parallel-item:last-child::after {align-self: flex-start;width: 50%;}#sk-container-id-3 div.sk-parallel-item:only-child::after {width: 0;}#sk-container-id-3 div.sk-dashed-wrapped {border: 1px dashed gray;margin: 0 0.4em 0.5em 0.4em;box-sizing: border-box;padding-bottom: 0.4em;background-color: white;}#sk-container-id-3 div.sk-label label {font-family: monospace;font-weight: bold;display: inline-block;line-height: 1.2em;}#sk-container-id-3 div.sk-label-container {text-align: center;}#sk-container-id-3 div.sk-container {/* jupyter's `normalize.less` sets `[hidden] { display: none; }` but bootstrap.min.css set `[hidden] { display: none !important; }` so we also need the `!important` here to be able to override the default hidden behavior on the sphinx rendered scikit-learn.org. See: https://github.com/scikit-learn/scikit-learn/issues/21755 */display: inline-block !important;position: relative;}#sk-container-id-3 div.sk-text-repr-fallback {display: none;}</style><div id=\"sk-container-id-3\" class=\"sk-top-container\"><div class=\"sk-text-repr-fallback\"><pre>SVC(random_state=41)</pre><b>In a Jupyter environment, please rerun this cell to show the HTML representation or trust the notebook. <br />On GitHub, the HTML representation is unable to render, please try loading this page with nbviewer.org.</b></div><div class=\"sk-container\" hidden><div class=\"sk-item\"><div class=\"sk-estimator sk-toggleable\"><input class=\"sk-toggleable__control sk-hidden--visually\" id=\"sk-estimator-id-3\" type=\"checkbox\" checked><label for=\"sk-estimator-id-3\" class=\"sk-toggleable__label sk-toggleable__label-arrow\">SVC</label><div class=\"sk-toggleable__content\"><pre>SVC(random_state=41)</pre></div></div></div></div></div>"
      ],
      "text/plain": [
       "SVC(random_state=41)"
      ]
     },
     "execution_count": 25,
     "metadata": {},
     "output_type": "execute_result"
    }
   ],
   "source": [
    "svc.fit(x_train,y_train)"
   ]
  },
  {
   "cell_type": "code",
   "execution_count": 26,
   "id": "f234da97",
   "metadata": {
    "execution": {
     "iopub.execute_input": "2023-06-15T06:09:38.725284Z",
     "iopub.status.busy": "2023-06-15T06:09:38.724394Z",
     "iopub.status.idle": "2023-06-15T06:09:38.835849Z",
     "shell.execute_reply": "2023-06-15T06:09:38.834377Z"
    },
    "id": "KjUEh6WMOOUL",
    "papermill": {
     "duration": 0.127479,
     "end_time": "2023-06-15T06:09:38.838424",
     "exception": false,
     "start_time": "2023-06-15T06:09:38.710945",
     "status": "completed"
    },
    "tags": []
   },
   "outputs": [],
   "source": [
    "svc_pred=svc.predict(x_test)"
   ]
  },
  {
   "cell_type": "code",
   "execution_count": 27,
   "id": "a4d467af",
   "metadata": {
    "execution": {
     "iopub.execute_input": "2023-06-15T06:09:38.864045Z",
     "iopub.status.busy": "2023-06-15T06:09:38.863693Z",
     "iopub.status.idle": "2023-06-15T06:09:38.876763Z",
     "shell.execute_reply": "2023-06-15T06:09:38.875384Z"
    },
    "id": "BrPdeXxcOWtE",
    "outputId": "aa54939c-e5dc-4d13-d473-e923e036882c",
    "papermill": {
     "duration": 0.028132,
     "end_time": "2023-06-15T06:09:38.878670",
     "exception": false,
     "start_time": "2023-06-15T06:09:38.850538",
     "status": "completed"
    },
    "tags": []
   },
   "outputs": [
    {
     "data": {
      "text/plain": [
       "{'GaussianNB': {'accuracy': 0.73,\n",
       "  'f1_score': 0.7567567567567568,\n",
       "  'mean_squared_error': 0.27},\n",
       " 'RandomForestClassifier': {'accuracy': 0.78,\n",
       "  'f1_score': 0.7411764705882353,\n",
       "  'mean_squared_error': 0.22},\n",
       " 'SVC': {'accuracy': 0.83,\n",
       "  'f1_score': 0.8152173913043478,\n",
       "  'mean_squared_error': 0.17}}"
      ]
     },
     "execution_count": 27,
     "metadata": {},
     "output_type": "execute_result"
    }
   ],
   "source": [
    "model_outputs['SVC'] ={'accuracy':accuracy_score(y_true=y_test, y_pred=svc_pred),\n",
    "                              'f1_score':f1_score(y_true=y_test, y_pred=svc_pred),\n",
    "                              'mean_squared_error':mean_squared_error(y_true=y_test, y_pred=svc_pred)}\n",
    "\n",
    "model_outputs"
   ]
  },
  {
   "cell_type": "markdown",
   "id": "f49aad50",
   "metadata": {
    "papermill": {
     "duration": 0.01175,
     "end_time": "2023-06-15T06:09:38.903036",
     "exception": false,
     "start_time": "2023-06-15T06:09:38.891286",
     "status": "completed"
    },
    "tags": []
   },
   "source": [
    "### **#Extreme Gradient Boost (XgBoost) Classifier**"
   ]
  },
  {
   "cell_type": "code",
   "execution_count": 28,
   "id": "1a611b3f",
   "metadata": {
    "execution": {
     "iopub.execute_input": "2023-06-15T06:09:38.929194Z",
     "iopub.status.busy": "2023-06-15T06:09:38.928834Z",
     "iopub.status.idle": "2023-06-15T06:09:42.688860Z",
     "shell.execute_reply": "2023-06-15T06:09:42.688243Z"
    },
    "id": "qsrjYfMGQwDb",
    "outputId": "a11f9032-da8b-496f-e5c3-9b10969eb222",
    "papermill": {
     "duration": 3.775525,
     "end_time": "2023-06-15T06:09:42.690550",
     "exception": false,
     "start_time": "2023-06-15T06:09:38.915025",
     "status": "completed"
    },
    "tags": []
   },
   "outputs": [
    {
     "data": {
      "text/html": [
       "<style>#sk-container-id-4 {color: black;background-color: white;}#sk-container-id-4 pre{padding: 0;}#sk-container-id-4 div.sk-toggleable {background-color: white;}#sk-container-id-4 label.sk-toggleable__label {cursor: pointer;display: block;width: 100%;margin-bottom: 0;padding: 0.3em;box-sizing: border-box;text-align: center;}#sk-container-id-4 label.sk-toggleable__label-arrow:before {content: \"▸\";float: left;margin-right: 0.25em;color: #696969;}#sk-container-id-4 label.sk-toggleable__label-arrow:hover:before {color: black;}#sk-container-id-4 div.sk-estimator:hover label.sk-toggleable__label-arrow:before {color: black;}#sk-container-id-4 div.sk-toggleable__content {max-height: 0;max-width: 0;overflow: hidden;text-align: left;background-color: #f0f8ff;}#sk-container-id-4 div.sk-toggleable__content pre {margin: 0.2em;color: black;border-radius: 0.25em;background-color: #f0f8ff;}#sk-container-id-4 input.sk-toggleable__control:checked~div.sk-toggleable__content {max-height: 200px;max-width: 100%;overflow: auto;}#sk-container-id-4 input.sk-toggleable__control:checked~label.sk-toggleable__label-arrow:before {content: \"▾\";}#sk-container-id-4 div.sk-estimator input.sk-toggleable__control:checked~label.sk-toggleable__label {background-color: #d4ebff;}#sk-container-id-4 div.sk-label input.sk-toggleable__control:checked~label.sk-toggleable__label {background-color: #d4ebff;}#sk-container-id-4 input.sk-hidden--visually {border: 0;clip: rect(1px 1px 1px 1px);clip: rect(1px, 1px, 1px, 1px);height: 1px;margin: -1px;overflow: hidden;padding: 0;position: absolute;width: 1px;}#sk-container-id-4 div.sk-estimator {font-family: monospace;background-color: #f0f8ff;border: 1px dotted black;border-radius: 0.25em;box-sizing: border-box;margin-bottom: 0.5em;}#sk-container-id-4 div.sk-estimator:hover {background-color: #d4ebff;}#sk-container-id-4 div.sk-parallel-item::after {content: \"\";width: 100%;border-bottom: 1px solid gray;flex-grow: 1;}#sk-container-id-4 div.sk-label:hover label.sk-toggleable__label {background-color: #d4ebff;}#sk-container-id-4 div.sk-serial::before {content: \"\";position: absolute;border-left: 1px solid gray;box-sizing: border-box;top: 0;bottom: 0;left: 50%;z-index: 0;}#sk-container-id-4 div.sk-serial {display: flex;flex-direction: column;align-items: center;background-color: white;padding-right: 0.2em;padding-left: 0.2em;position: relative;}#sk-container-id-4 div.sk-item {position: relative;z-index: 1;}#sk-container-id-4 div.sk-parallel {display: flex;align-items: stretch;justify-content: center;background-color: white;position: relative;}#sk-container-id-4 div.sk-item::before, #sk-container-id-4 div.sk-parallel-item::before {content: \"\";position: absolute;border-left: 1px solid gray;box-sizing: border-box;top: 0;bottom: 0;left: 50%;z-index: -1;}#sk-container-id-4 div.sk-parallel-item {display: flex;flex-direction: column;z-index: 1;position: relative;background-color: white;}#sk-container-id-4 div.sk-parallel-item:first-child::after {align-self: flex-end;width: 50%;}#sk-container-id-4 div.sk-parallel-item:last-child::after {align-self: flex-start;width: 50%;}#sk-container-id-4 div.sk-parallel-item:only-child::after {width: 0;}#sk-container-id-4 div.sk-dashed-wrapped {border: 1px dashed gray;margin: 0 0.4em 0.5em 0.4em;box-sizing: border-box;padding-bottom: 0.4em;background-color: white;}#sk-container-id-4 div.sk-label label {font-family: monospace;font-weight: bold;display: inline-block;line-height: 1.2em;}#sk-container-id-4 div.sk-label-container {text-align: center;}#sk-container-id-4 div.sk-container {/* jupyter's `normalize.less` sets `[hidden] { display: none; }` but bootstrap.min.css set `[hidden] { display: none !important; }` so we also need the `!important` here to be able to override the default hidden behavior on the sphinx rendered scikit-learn.org. See: https://github.com/scikit-learn/scikit-learn/issues/21755 */display: inline-block !important;position: relative;}#sk-container-id-4 div.sk-text-repr-fallback {display: none;}</style><div id=\"sk-container-id-4\" class=\"sk-top-container\"><div class=\"sk-text-repr-fallback\"><pre>XGBClassifier(base_score=None, booster=None, callbacks=None,\n",
       "              colsample_bylevel=None, colsample_bynode=None,\n",
       "              colsample_bytree=None, early_stopping_rounds=None,\n",
       "              enable_categorical=False, eval_metric=None, feature_types=None,\n",
       "              gamma=None, gpu_id=None, grow_policy=None, importance_type=None,\n",
       "              interaction_constraints=None, learning_rate=None, max_bin=None,\n",
       "              max_cat_threshold=None, max_cat_to_onehot=None,\n",
       "              max_delta_step=None, max_depth=None, max_leaves=None,\n",
       "              min_child_weight=None, missing=nan, monotone_constraints=None,\n",
       "              n_estimators=100, n_jobs=2, num_parallel_tree=None,\n",
       "              predictor=None, random_state=41, ...)</pre><b>In a Jupyter environment, please rerun this cell to show the HTML representation or trust the notebook. <br />On GitHub, the HTML representation is unable to render, please try loading this page with nbviewer.org.</b></div><div class=\"sk-container\" hidden><div class=\"sk-item\"><div class=\"sk-estimator sk-toggleable\"><input class=\"sk-toggleable__control sk-hidden--visually\" id=\"sk-estimator-id-4\" type=\"checkbox\" checked><label for=\"sk-estimator-id-4\" class=\"sk-toggleable__label sk-toggleable__label-arrow\">XGBClassifier</label><div class=\"sk-toggleable__content\"><pre>XGBClassifier(base_score=None, booster=None, callbacks=None,\n",
       "              colsample_bylevel=None, colsample_bynode=None,\n",
       "              colsample_bytree=None, early_stopping_rounds=None,\n",
       "              enable_categorical=False, eval_metric=None, feature_types=None,\n",
       "              gamma=None, gpu_id=None, grow_policy=None, importance_type=None,\n",
       "              interaction_constraints=None, learning_rate=None, max_bin=None,\n",
       "              max_cat_threshold=None, max_cat_to_onehot=None,\n",
       "              max_delta_step=None, max_depth=None, max_leaves=None,\n",
       "              min_child_weight=None, missing=nan, monotone_constraints=None,\n",
       "              n_estimators=100, n_jobs=2, num_parallel_tree=None,\n",
       "              predictor=None, random_state=41, ...)</pre></div></div></div></div></div>"
      ],
      "text/plain": [
       "XGBClassifier(base_score=None, booster=None, callbacks=None,\n",
       "              colsample_bylevel=None, colsample_bynode=None,\n",
       "              colsample_bytree=None, early_stopping_rounds=None,\n",
       "              enable_categorical=False, eval_metric=None, feature_types=None,\n",
       "              gamma=None, gpu_id=None, grow_policy=None, importance_type=None,\n",
       "              interaction_constraints=None, learning_rate=None, max_bin=None,\n",
       "              max_cat_threshold=None, max_cat_to_onehot=None,\n",
       "              max_delta_step=None, max_depth=None, max_leaves=None,\n",
       "              min_child_weight=None, missing=nan, monotone_constraints=None,\n",
       "              n_estimators=100, n_jobs=2, num_parallel_tree=None,\n",
       "              predictor=None, random_state=41, ...)"
      ]
     },
     "execution_count": 28,
     "metadata": {},
     "output_type": "execute_result"
    }
   ],
   "source": [
    "#XGBClassifier\n",
    "from xgboost import XGBClassifier\n",
    "\n",
    "xgb= XGBClassifier(n_estimators=100,n_jobs=2,random_state=41)\n",
    "xgb.fit(x_train,y_train)"
   ]
  },
  {
   "cell_type": "code",
   "execution_count": 29,
   "id": "592b0f49",
   "metadata": {
    "execution": {
     "iopub.execute_input": "2023-06-15T06:09:42.717789Z",
     "iopub.status.busy": "2023-06-15T06:09:42.716746Z",
     "iopub.status.idle": "2023-06-15T06:09:42.765356Z",
     "shell.execute_reply": "2023-06-15T06:09:42.764629Z"
    },
    "id": "rtTQnjhWTfpm",
    "papermill": {
     "duration": 0.064404,
     "end_time": "2023-06-15T06:09:42.767559",
     "exception": false,
     "start_time": "2023-06-15T06:09:42.703155",
     "status": "completed"
    },
    "tags": []
   },
   "outputs": [],
   "source": [
    "xgb_pred=xgb.predict(x_test)"
   ]
  },
  {
   "cell_type": "code",
   "execution_count": 30,
   "id": "21a91b87",
   "metadata": {
    "execution": {
     "iopub.execute_input": "2023-06-15T06:09:42.796973Z",
     "iopub.status.busy": "2023-06-15T06:09:42.795665Z",
     "iopub.status.idle": "2023-06-15T06:09:42.806153Z",
     "shell.execute_reply": "2023-06-15T06:09:42.805244Z"
    },
    "id": "BRhofoSkTvu7",
    "outputId": "11d60ae4-9888-4a11-ba4b-9a554f3df18a",
    "papermill": {
     "duration": 0.026607,
     "end_time": "2023-06-15T06:09:42.808477",
     "exception": false,
     "start_time": "2023-06-15T06:09:42.781870",
     "status": "completed"
    },
    "tags": []
   },
   "outputs": [
    {
     "data": {
      "text/plain": [
       "{'GaussianNB': {'accuracy': 0.73,\n",
       "  'f1_score': 0.7567567567567568,\n",
       "  'mean_squared_error': 0.27},\n",
       " 'RandomForestClassifier': {'accuracy': 0.78,\n",
       "  'f1_score': 0.7411764705882353,\n",
       "  'mean_squared_error': 0.22},\n",
       " 'SVC': {'accuracy': 0.83,\n",
       "  'f1_score': 0.8152173913043478,\n",
       "  'mean_squared_error': 0.17},\n",
       " 'XGB': {'accuracy': 0.715,\n",
       "  'f1_score': 0.6666666666666666,\n",
       "  'mean_squared_error': 0.285}}"
      ]
     },
     "execution_count": 30,
     "metadata": {},
     "output_type": "execute_result"
    }
   ],
   "source": [
    "model_outputs['XGB'] ={'accuracy':accuracy_score(y_true=y_test, y_pred=xgb_pred),\n",
    "                              'f1_score':f1_score(y_true=y_test, y_pred=xgb_pred),\n",
    "                              'mean_squared_error':mean_squared_error(y_true=y_test, y_pred=xgb_pred)}\n",
    "\n",
    "model_outputs"
   ]
  },
  {
   "cell_type": "markdown",
   "id": "996ff6a8",
   "metadata": {
    "papermill": {
     "duration": 0.012255,
     "end_time": "2023-06-15T06:09:42.833596",
     "exception": false,
     "start_time": "2023-06-15T06:09:42.821341",
     "status": "completed"
    },
    "tags": []
   },
   "source": [
    "### **#K Nearest Neighbors (KNN)**"
   ]
  },
  {
   "cell_type": "code",
   "execution_count": 31,
   "id": "ad0c7746",
   "metadata": {
    "execution": {
     "iopub.execute_input": "2023-06-15T06:09:42.861235Z",
     "iopub.status.busy": "2023-06-15T06:09:42.860649Z",
     "iopub.status.idle": "2023-06-15T06:09:42.881914Z",
     "shell.execute_reply": "2023-06-15T06:09:42.880726Z"
    },
    "id": "0bM2njDdUAKM",
    "outputId": "a679d037-1bfd-4ca9-d564-e7acd84e7a94",
    "papermill": {
     "duration": 0.037531,
     "end_time": "2023-06-15T06:09:42.884017",
     "exception": false,
     "start_time": "2023-06-15T06:09:42.846486",
     "status": "completed"
    },
    "tags": []
   },
   "outputs": [
    {
     "data": {
      "text/html": [
       "<style>#sk-container-id-5 {color: black;background-color: white;}#sk-container-id-5 pre{padding: 0;}#sk-container-id-5 div.sk-toggleable {background-color: white;}#sk-container-id-5 label.sk-toggleable__label {cursor: pointer;display: block;width: 100%;margin-bottom: 0;padding: 0.3em;box-sizing: border-box;text-align: center;}#sk-container-id-5 label.sk-toggleable__label-arrow:before {content: \"▸\";float: left;margin-right: 0.25em;color: #696969;}#sk-container-id-5 label.sk-toggleable__label-arrow:hover:before {color: black;}#sk-container-id-5 div.sk-estimator:hover label.sk-toggleable__label-arrow:before {color: black;}#sk-container-id-5 div.sk-toggleable__content {max-height: 0;max-width: 0;overflow: hidden;text-align: left;background-color: #f0f8ff;}#sk-container-id-5 div.sk-toggleable__content pre {margin: 0.2em;color: black;border-radius: 0.25em;background-color: #f0f8ff;}#sk-container-id-5 input.sk-toggleable__control:checked~div.sk-toggleable__content {max-height: 200px;max-width: 100%;overflow: auto;}#sk-container-id-5 input.sk-toggleable__control:checked~label.sk-toggleable__label-arrow:before {content: \"▾\";}#sk-container-id-5 div.sk-estimator input.sk-toggleable__control:checked~label.sk-toggleable__label {background-color: #d4ebff;}#sk-container-id-5 div.sk-label input.sk-toggleable__control:checked~label.sk-toggleable__label {background-color: #d4ebff;}#sk-container-id-5 input.sk-hidden--visually {border: 0;clip: rect(1px 1px 1px 1px);clip: rect(1px, 1px, 1px, 1px);height: 1px;margin: -1px;overflow: hidden;padding: 0;position: absolute;width: 1px;}#sk-container-id-5 div.sk-estimator {font-family: monospace;background-color: #f0f8ff;border: 1px dotted black;border-radius: 0.25em;box-sizing: border-box;margin-bottom: 0.5em;}#sk-container-id-5 div.sk-estimator:hover {background-color: #d4ebff;}#sk-container-id-5 div.sk-parallel-item::after {content: \"\";width: 100%;border-bottom: 1px solid gray;flex-grow: 1;}#sk-container-id-5 div.sk-label:hover label.sk-toggleable__label {background-color: #d4ebff;}#sk-container-id-5 div.sk-serial::before {content: \"\";position: absolute;border-left: 1px solid gray;box-sizing: border-box;top: 0;bottom: 0;left: 50%;z-index: 0;}#sk-container-id-5 div.sk-serial {display: flex;flex-direction: column;align-items: center;background-color: white;padding-right: 0.2em;padding-left: 0.2em;position: relative;}#sk-container-id-5 div.sk-item {position: relative;z-index: 1;}#sk-container-id-5 div.sk-parallel {display: flex;align-items: stretch;justify-content: center;background-color: white;position: relative;}#sk-container-id-5 div.sk-item::before, #sk-container-id-5 div.sk-parallel-item::before {content: \"\";position: absolute;border-left: 1px solid gray;box-sizing: border-box;top: 0;bottom: 0;left: 50%;z-index: -1;}#sk-container-id-5 div.sk-parallel-item {display: flex;flex-direction: column;z-index: 1;position: relative;background-color: white;}#sk-container-id-5 div.sk-parallel-item:first-child::after {align-self: flex-end;width: 50%;}#sk-container-id-5 div.sk-parallel-item:last-child::after {align-self: flex-start;width: 50%;}#sk-container-id-5 div.sk-parallel-item:only-child::after {width: 0;}#sk-container-id-5 div.sk-dashed-wrapped {border: 1px dashed gray;margin: 0 0.4em 0.5em 0.4em;box-sizing: border-box;padding-bottom: 0.4em;background-color: white;}#sk-container-id-5 div.sk-label label {font-family: monospace;font-weight: bold;display: inline-block;line-height: 1.2em;}#sk-container-id-5 div.sk-label-container {text-align: center;}#sk-container-id-5 div.sk-container {/* jupyter's `normalize.less` sets `[hidden] { display: none; }` but bootstrap.min.css set `[hidden] { display: none !important; }` so we also need the `!important` here to be able to override the default hidden behavior on the sphinx rendered scikit-learn.org. See: https://github.com/scikit-learn/scikit-learn/issues/21755 */display: inline-block !important;position: relative;}#sk-container-id-5 div.sk-text-repr-fallback {display: none;}</style><div id=\"sk-container-id-5\" class=\"sk-top-container\"><div class=\"sk-text-repr-fallback\"><pre>KNeighborsClassifier(n_jobs=2)</pre><b>In a Jupyter environment, please rerun this cell to show the HTML representation or trust the notebook. <br />On GitHub, the HTML representation is unable to render, please try loading this page with nbviewer.org.</b></div><div class=\"sk-container\" hidden><div class=\"sk-item\"><div class=\"sk-estimator sk-toggleable\"><input class=\"sk-toggleable__control sk-hidden--visually\" id=\"sk-estimator-id-5\" type=\"checkbox\" checked><label for=\"sk-estimator-id-5\" class=\"sk-toggleable__label sk-toggleable__label-arrow\">KNeighborsClassifier</label><div class=\"sk-toggleable__content\"><pre>KNeighborsClassifier(n_jobs=2)</pre></div></div></div></div></div>"
      ],
      "text/plain": [
       "KNeighborsClassifier(n_jobs=2)"
      ]
     },
     "execution_count": 31,
     "metadata": {},
     "output_type": "execute_result"
    }
   ],
   "source": [
    "#KNeighborsClassifier\n",
    "from sklearn.neighbors import KNeighborsClassifier\n",
    "knn=KNeighborsClassifier(n_jobs=2)\n",
    "knn.fit(x_train,y_train)"
   ]
  },
  {
   "cell_type": "code",
   "execution_count": 32,
   "id": "cd092984",
   "metadata": {
    "execution": {
     "iopub.execute_input": "2023-06-15T06:09:42.912141Z",
     "iopub.status.busy": "2023-06-15T06:09:42.911611Z",
     "iopub.status.idle": "2023-06-15T06:09:42.958014Z",
     "shell.execute_reply": "2023-06-15T06:09:42.957346Z"
    },
    "id": "a2sOkwPOUsn0",
    "papermill": {
     "duration": 0.062956,
     "end_time": "2023-06-15T06:09:42.960265",
     "exception": false,
     "start_time": "2023-06-15T06:09:42.897309",
     "status": "completed"
    },
    "tags": []
   },
   "outputs": [],
   "source": [
    "knn_pred=xgb.predict(x_test)"
   ]
  },
  {
   "cell_type": "code",
   "execution_count": 33,
   "id": "24b0d391",
   "metadata": {
    "execution": {
     "iopub.execute_input": "2023-06-15T06:09:42.987161Z",
     "iopub.status.busy": "2023-06-15T06:09:42.986547Z",
     "iopub.status.idle": "2023-06-15T06:09:42.995614Z",
     "shell.execute_reply": "2023-06-15T06:09:42.994545Z"
    },
    "id": "_t3X7TxnU3K8",
    "outputId": "7d1250e5-4b15-4a55-db6a-44adcdffb1e2",
    "papermill": {
     "duration": 0.02452,
     "end_time": "2023-06-15T06:09:42.997424",
     "exception": false,
     "start_time": "2023-06-15T06:09:42.972904",
     "status": "completed"
    },
    "tags": []
   },
   "outputs": [
    {
     "data": {
      "text/plain": [
       "{'GaussianNB': {'accuracy': 0.73,\n",
       "  'f1_score': 0.7567567567567568,\n",
       "  'mean_squared_error': 0.27},\n",
       " 'RandomForestClassifier': {'accuracy': 0.78,\n",
       "  'f1_score': 0.7411764705882353,\n",
       "  'mean_squared_error': 0.22},\n",
       " 'SVC': {'accuracy': 0.83,\n",
       "  'f1_score': 0.8152173913043478,\n",
       "  'mean_squared_error': 0.17},\n",
       " 'XGB': {'accuracy': 0.715,\n",
       "  'f1_score': 0.6666666666666666,\n",
       "  'mean_squared_error': 0.285},\n",
       " 'knn': {'accuracy': 0.715,\n",
       "  'f1_score': 0.6666666666666666,\n",
       "  'mean_squared_error': 0.285}}"
      ]
     },
     "execution_count": 33,
     "metadata": {},
     "output_type": "execute_result"
    }
   ],
   "source": [
    "model_outputs['knn'] ={'accuracy':accuracy_score(y_true=y_test, y_pred=knn_pred),\n",
    "                              'f1_score':f1_score(y_true=y_test, y_pred=knn_pred),\n",
    "                              'mean_squared_error':mean_squared_error(y_true=y_test, y_pred=knn_pred)}\n",
    "\n",
    "model_outputs"
   ]
  },
  {
   "cell_type": "code",
   "execution_count": 34,
   "id": "565524d4",
   "metadata": {
    "execution": {
     "iopub.execute_input": "2023-06-15T06:09:43.024589Z",
     "iopub.status.busy": "2023-06-15T06:09:43.023921Z",
     "iopub.status.idle": "2023-06-15T06:09:43.028769Z",
     "shell.execute_reply": "2023-06-15T06:09:43.028186Z"
    },
    "id": "a8AVLnzzWllI",
    "outputId": "714d1ce3-c142-4682-efa2-4d6ae87651d2",
    "papermill": {
     "duration": 0.020214,
     "end_time": "2023-06-15T06:09:43.030288",
     "exception": false,
     "start_time": "2023-06-15T06:09:43.010074",
     "status": "completed"
    },
    "tags": []
   },
   "outputs": [
    {
     "data": {
      "text/plain": [
       "dict_keys(['GaussianNB', 'RandomForestClassifier', 'SVC', 'XGB', 'knn'])"
      ]
     },
     "execution_count": 34,
     "metadata": {},
     "output_type": "execute_result"
    }
   ],
   "source": [
    "model_outputs.keys()"
   ]
  },
  {
   "cell_type": "code",
   "execution_count": 35,
   "id": "0bbaaf66",
   "metadata": {
    "execution": {
     "iopub.execute_input": "2023-06-15T06:09:43.059383Z",
     "iopub.status.busy": "2023-06-15T06:09:43.057978Z",
     "iopub.status.idle": "2023-06-15T06:09:43.068229Z",
     "shell.execute_reply": "2023-06-15T06:09:43.067530Z"
    },
    "id": "69R3WJwgVie2",
    "outputId": "97cfc00c-79c7-4f49-9932-9934ab352336",
    "papermill": {
     "duration": 0.026723,
     "end_time": "2023-06-15T06:09:43.069877",
     "exception": false,
     "start_time": "2023-06-15T06:09:43.043154",
     "status": "completed"
    },
    "tags": []
   },
   "outputs": [
    {
     "data": {
      "text/html": [
       "<div>\n",
       "<style scoped>\n",
       "    .dataframe tbody tr th:only-of-type {\n",
       "        vertical-align: middle;\n",
       "    }\n",
       "\n",
       "    .dataframe tbody tr th {\n",
       "        vertical-align: top;\n",
       "    }\n",
       "\n",
       "    .dataframe thead th {\n",
       "        text-align: right;\n",
       "    }\n",
       "</style>\n",
       "<table border=\"1\" class=\"dataframe\">\n",
       "  <thead>\n",
       "    <tr style=\"text-align: right;\">\n",
       "      <th></th>\n",
       "      <th>accuracy</th>\n",
       "      <th>f1_score</th>\n",
       "      <th>mean_squared_error</th>\n",
       "    </tr>\n",
       "  </thead>\n",
       "  <tbody>\n",
       "    <tr>\n",
       "      <th>GaussianNB</th>\n",
       "      <td>0.730</td>\n",
       "      <td>0.756757</td>\n",
       "      <td>0.270</td>\n",
       "    </tr>\n",
       "    <tr>\n",
       "      <th>RandomForestClassifier</th>\n",
       "      <td>0.780</td>\n",
       "      <td>0.741176</td>\n",
       "      <td>0.220</td>\n",
       "    </tr>\n",
       "    <tr>\n",
       "      <th>SVC</th>\n",
       "      <td>0.830</td>\n",
       "      <td>0.815217</td>\n",
       "      <td>0.170</td>\n",
       "    </tr>\n",
       "    <tr>\n",
       "      <th>XGB</th>\n",
       "      <td>0.715</td>\n",
       "      <td>0.666667</td>\n",
       "      <td>0.285</td>\n",
       "    </tr>\n",
       "    <tr>\n",
       "      <th>knn</th>\n",
       "      <td>0.715</td>\n",
       "      <td>0.666667</td>\n",
       "      <td>0.285</td>\n",
       "    </tr>\n",
       "  </tbody>\n",
       "</table>\n",
       "</div>"
      ],
      "text/plain": [
       "                        accuracy  f1_score  mean_squared_error\n",
       "GaussianNB                 0.730  0.756757               0.270\n",
       "RandomForestClassifier     0.780  0.741176               0.220\n",
       "SVC                        0.830  0.815217               0.170\n",
       "XGB                        0.715  0.666667               0.285\n",
       "knn                        0.715  0.666667               0.285"
      ]
     },
     "execution_count": 35,
     "metadata": {},
     "output_type": "execute_result"
    }
   ],
   "source": [
    "model_df= pd.DataFrame(data=model_outputs,).T\n",
    "model_df"
   ]
  },
  {
   "cell_type": "code",
   "execution_count": 36,
   "id": "89ae524a",
   "metadata": {
    "execution": {
     "iopub.execute_input": "2023-06-15T06:09:43.099853Z",
     "iopub.status.busy": "2023-06-15T06:09:43.098615Z",
     "iopub.status.idle": "2023-06-15T06:09:43.104184Z",
     "shell.execute_reply": "2023-06-15T06:09:43.103197Z"
    },
    "id": "7M-MvKuxFwiP",
    "papermill": {
     "duration": 0.022437,
     "end_time": "2023-06-15T06:09:43.106222",
     "exception": false,
     "start_time": "2023-06-15T06:09:43.083785",
     "status": "completed"
    },
    "tags": []
   },
   "outputs": [],
   "source": [
    "x_axis=model_df.index"
   ]
  },
  {
   "cell_type": "markdown",
   "id": "6ce8ab74",
   "metadata": {
    "papermill": {
     "duration": 0.012658,
     "end_time": "2023-06-15T06:09:43.131900",
     "exception": false,
     "start_time": "2023-06-15T06:09:43.119242",
     "status": "completed"
    },
    "tags": []
   },
   "source": [
    "## ***Standardization***"
   ]
  },
  {
   "cell_type": "code",
   "execution_count": 37,
   "id": "96b78828",
   "metadata": {
    "execution": {
     "iopub.execute_input": "2023-06-15T06:09:43.159873Z",
     "iopub.status.busy": "2023-06-15T06:09:43.159341Z",
     "iopub.status.idle": "2023-06-15T06:09:43.169685Z",
     "shell.execute_reply": "2023-06-15T06:09:43.168247Z"
    },
    "id": "de4uc1ZqIQV_",
    "outputId": "1eb8b7de-cc61-4a80-f5ec-2d60777606b5",
    "papermill": {
     "duration": 0.027698,
     "end_time": "2023-06-15T06:09:43.172604",
     "exception": false,
     "start_time": "2023-06-15T06:09:43.144906",
     "status": "completed"
    },
    "tags": []
   },
   "outputs": [
    {
     "data": {
      "text/plain": [
       "array([[-0.53478782,  0.48357917,  0.53478782],\n",
       "       [ 0.57935347,  0.20920513, -0.57935347],\n",
       "       [ 1.69349477,  1.51309045, -1.69349477],\n",
       "       [-0.86903021, -1.10293737,  0.86903021],\n",
       "       [-0.86903021, -1.10293737,  0.86903021]])"
      ]
     },
     "execution_count": 37,
     "metadata": {},
     "output_type": "execute_result"
    }
   ],
   "source": [
    "from sklearn.preprocessing import StandardScaler\n",
    "scaler=StandardScaler()\n",
    "y_axis=scaler.fit_transform(model_df)\n",
    "y_axis"
   ]
  },
  {
   "cell_type": "markdown",
   "id": "9cff3701",
   "metadata": {
    "papermill": {
     "duration": 0.012994,
     "end_time": "2023-06-15T06:09:43.198740",
     "exception": false,
     "start_time": "2023-06-15T06:09:43.185746",
     "status": "completed"
    },
    "tags": []
   },
   "source": [
    "### **Model Performance Visualization**"
   ]
  },
  {
   "cell_type": "code",
   "execution_count": 38,
   "id": "5ac462d6",
   "metadata": {
    "execution": {
     "iopub.execute_input": "2023-06-15T06:09:43.226838Z",
     "iopub.status.busy": "2023-06-15T06:09:43.226527Z",
     "iopub.status.idle": "2023-06-15T06:09:43.468172Z",
     "shell.execute_reply": "2023-06-15T06:09:43.466998Z"
    },
    "id": "4GJWHHNHE9ML",
    "outputId": "d067e144-fa32-4adb-891a-9ac19a023d52",
    "papermill": {
     "duration": 0.258338,
     "end_time": "2023-06-15T06:09:43.470145",
     "exception": false,
     "start_time": "2023-06-15T06:09:43.211807",
     "status": "completed"
    },
    "tags": []
   },
   "outputs": [
    {
     "data": {
      "image/png": "[encoded data removed]",
      "text/plain": [
       "<Figure size 1300x500 with 1 Axes>"
      ]
     },
     "metadata": {},
     "output_type": "display_data"
    }
   ],
   "source": [
    "plt.figure(figsize=(13, 5))\n",
    "plt.plot(x_axis,y_axis,marker='o')\n",
    "plt.legend(model_df.columns)\n",
    "plt.grid(color = 'green', linestyle = '--', linewidth = 0.5)\n",
    "plt.show()"
   ]
  },
  {
   "cell_type": "markdown",
   "id": "b2e9d625",
   "metadata": {
    "id": "ybuRQpvDY6ZV",
    "papermill": {
     "duration": 0.013193,
     "end_time": "2023-06-15T06:09:43.497345",
     "exception": false,
     "start_time": "2023-06-15T06:09:43.484152",
     "status": "completed"
    },
    "tags": []
   },
   "source": [
    "# ***Model Selection***\n",
    "\n",
    "\n",
    "\n",
    "   1. **Accuracy** *for SVC is Higher as compare to others.*\n",
    "   2. **F1-Score** *for SVC is Higher as compare to others.*\n",
    "   3. **MSE** *for SVC is Lower as compare to others.*\n",
    "\n",
    "## **`Model Selected ====>>>> SVC`**\n",
    "\n"
   ]
  }
 ],
 "metadata": {
  "kernelspec": {
   "display_name": "Python 3",
   "language": "python",
   "name": "python3"
  },
  "language_info": {
   "codemirror_mode": {
    "name": "ipython",
    "version": 3
   },
   "file_extension": ".py",
   "mimetype": "text/x-python",
   "name": "python",
   "nbconvert_exporter": "python",
   "pygments_lexer": "ipython3",
   "version": "3.10.10"
  },
  "papermill": {
   "default_parameters": {},
   "duration": 61.357716,
   "end_time": "2023-06-15T06:09:46.898720",
   "environment_variables": {},
   "exception": null,
   "input_path": "__notebook__.ipynb",
   "output_path": "__notebook__.ipynb",
   "parameters": {},
   "start_time": "2023-06-15T06:08:45.541004",
   "version": "2.4.0"
  }
 },
 "nbformat": 4,
 "nbformat_minor": 5
}
